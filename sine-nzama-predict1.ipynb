{
 "cells": [
  {
   "cell_type": "code",
   "execution_count": 1,
   "metadata": {
    "_cell_guid": "79c7e3d0-c299-4dcb-8224-4455121ee9b0",
    "_uuid": "d629ff2d2480ee46fbb7e2d37f6b5fab8052498a",
    "execution": {
     "iopub.execute_input": "2020-10-13T06:43:41.458837Z",
     "iopub.status.busy": "2020-10-13T06:43:41.458022Z",
     "iopub.status.idle": "2020-10-13T06:43:43.424523Z",
     "shell.execute_reply": "2020-10-13T06:43:43.423750Z"
    },
    "papermill": {
     "duration": 1.985711,
     "end_time": "2020-10-13T06:43:43.424665",
     "exception": false,
     "start_time": "2020-10-13T06:43:41.438954",
     "status": "completed"
    },
    "tags": []
   },
   "outputs": [],
   "source": [
    "import pandas as pd\n",
    "import numpy as np\n",
    "import nltk\n",
    "import string\n",
    "import re\n",
    "from sklearn.feature_extraction.text import TfidfVectorizer\n",
    "from sklearn.linear_model import LogisticRegression\n",
    "from sklearn.naive_bayes import MultinomialNB\n",
    "from sklearn.ensemble import RandomForestClassifier, AdaBoostClassifier\n",
    "from sklearn.svm import LinearSVC\n",
    "from sklearn.model_selection import train_test_split\n",
    "from sklearn.naive_bayes import MultinomialNB\n",
    "from nltk.stem import WordNetLemmatizer\n",
    "from nltk.corpus import stopwords\n",
    "\n",
    "from sklearn.metrics import f1_score\n",
    "\n",
    "import seaborn as sns\n",
    "import matplotlib.pyplot as plt\n",
    "%matplotlib inline"
   ]
  },
  {
   "cell_type": "code",
   "execution_count": 2,
   "metadata": {
    "execution": {
     "iopub.execute_input": "2020-10-13T06:43:43.453687Z",
     "iopub.status.busy": "2020-10-13T06:43:43.452979Z",
     "iopub.status.idle": "2020-10-13T06:43:43.549043Z",
     "shell.execute_reply": "2020-10-13T06:43:43.548370Z"
    },
    "papermill": {
     "duration": 0.114388,
     "end_time": "2020-10-13T06:43:43.549168",
     "exception": false,
     "start_time": "2020-10-13T06:43:43.434780",
     "status": "completed"
    },
    "tags": []
   },
   "outputs": [],
   "source": [
    "train = pd.read_csv('../input/climate-change-edsa2020-21/train.csv')\n",
    "test = pd.read_csv('../input/climate-change-edsa2020-21/test.csv')"
   ]
  },
  {
   "cell_type": "code",
   "execution_count": 3,
   "metadata": {
    "execution": {
     "iopub.execute_input": "2020-10-13T06:43:43.580750Z",
     "iopub.status.busy": "2020-10-13T06:43:43.575920Z",
     "iopub.status.idle": "2020-10-13T06:43:43.585026Z",
     "shell.execute_reply": "2020-10-13T06:43:43.584421Z"
    },
    "papermill": {
     "duration": 0.027261,
     "end_time": "2020-10-13T06:43:43.585142",
     "exception": false,
     "start_time": "2020-10-13T06:43:43.557881",
     "status": "completed"
    },
    "tags": []
   },
   "outputs": [
    {
     "data": {
      "text/plain": [
       " 1    8530\n",
       " 2    3640\n",
       " 0    2353\n",
       "-1    1296\n",
       "Name: sentiment, dtype: int64"
      ]
     },
     "execution_count": 3,
     "metadata": {},
     "output_type": "execute_result"
    }
   ],
   "source": [
    "train.sentiment.value_counts()"
   ]
  },
  {
   "cell_type": "code",
   "execution_count": 4,
   "metadata": {
    "execution": {
     "iopub.execute_input": "2020-10-13T06:43:43.611682Z",
     "iopub.status.busy": "2020-10-13T06:43:43.610993Z",
     "iopub.status.idle": "2020-10-13T06:43:43.650650Z",
     "shell.execute_reply": "2020-10-13T06:43:43.649936Z"
    },
    "papermill": {
     "duration": 0.05633,
     "end_time": "2020-10-13T06:43:43.650783",
     "exception": false,
     "start_time": "2020-10-13T06:43:43.594453",
     "status": "completed"
    },
    "tags": []
   },
   "outputs": [],
   "source": [
    "from sklearn.utils import resample\n",
    "believe = train[train['sentiment'] == 1]\n",
    "no_belief = train[train['sentiment'] == -1]\n",
    "neutral = train[train['sentiment'] == 0]\n",
    "news = train[train['sentiment'] == 2]\n",
    "# upsample minority\n",
    "no_belief_upsampled = resample(no_belief,replace = True,n_samples = len(believe),\n",
    "                              random_state = 15)\n",
    "news_upsampled = resample(news,replace = True,n_samples = len(believe),\n",
    "                              random_state = 15)\n",
    "neutral_upsampled = resample(neutral,replace = True,n_samples = len(believe),\n",
    "                              random_state = 15)\n",
    "# combine majority and upsampled minority\n",
    "upsampled = pd.concat([believe, no_belief_upsampled, news_upsampled, neutral_upsampled])"
   ]
  },
  {
   "cell_type": "code",
   "execution_count": 5,
   "metadata": {
    "execution": {
     "iopub.execute_input": "2020-10-13T06:43:43.677629Z",
     "iopub.status.busy": "2020-10-13T06:43:43.676170Z",
     "iopub.status.idle": "2020-10-13T06:43:43.681385Z",
     "shell.execute_reply": "2020-10-13T06:43:43.681837Z"
    },
    "papermill": {
     "duration": 0.02025,
     "end_time": "2020-10-13T06:43:43.681991",
     "exception": false,
     "start_time": "2020-10-13T06:43:43.661741",
     "status": "completed"
    },
    "tags": []
   },
   "outputs": [
    {
     "data": {
      "text/plain": [
       " 1    8530\n",
       " 2    3640\n",
       " 0    2353\n",
       "-1    1296\n",
       "Name: sentiment, dtype: int64"
      ]
     },
     "execution_count": 5,
     "metadata": {},
     "output_type": "execute_result"
    }
   ],
   "source": [
    "train.sentiment.value_counts()"
   ]
  },
  {
   "cell_type": "code",
   "execution_count": 6,
   "metadata": {
    "execution": {
     "iopub.execute_input": "2020-10-13T06:43:43.706618Z",
     "iopub.status.busy": "2020-10-13T06:43:43.705955Z",
     "iopub.status.idle": "2020-10-13T06:43:43.708673Z",
     "shell.execute_reply": "2020-10-13T06:43:43.709183Z"
    },
    "papermill": {
     "duration": 0.017766,
     "end_time": "2020-10-13T06:43:43.709352",
     "exception": false,
     "start_time": "2020-10-13T06:43:43.691586",
     "status": "completed"
    },
    "tags": []
   },
   "outputs": [],
   "source": [
    "y = upsampled['sentiment']\n",
    "X = upsampled['message']"
   ]
  },
  {
   "cell_type": "code",
   "execution_count": 7,
   "metadata": {
    "execution": {
     "iopub.execute_input": "2020-10-13T06:43:43.758134Z",
     "iopub.status.busy": "2020-10-13T06:43:43.747805Z",
     "iopub.status.idle": "2020-10-13T06:43:45.215912Z",
     "shell.execute_reply": "2020-10-13T06:43:45.216412Z"
    },
    "papermill": {
     "duration": 1.49723,
     "end_time": "2020-10-13T06:43:45.216571",
     "exception": false,
     "start_time": "2020-10-13T06:43:43.719341",
     "status": "completed"
    },
    "tags": []
   },
   "outputs": [],
   "source": [
    "vectorizer = TfidfVectorizer(ngram_range=(1,2), min_df=2, stop_words=\"english\")\n",
    "X_vectorized = vectorizer.fit_transform(X)"
   ]
  },
  {
   "cell_type": "code",
   "execution_count": 8,
   "metadata": {
    "execution": {
     "iopub.execute_input": "2020-10-13T06:43:45.242849Z",
     "iopub.status.busy": "2020-10-13T06:43:45.242023Z",
     "iopub.status.idle": "2020-10-13T06:43:45.265836Z",
     "shell.execute_reply": "2020-10-13T06:43:45.265217Z"
    },
    "papermill": {
     "duration": 0.039279,
     "end_time": "2020-10-13T06:43:45.265950",
     "exception": false,
     "start_time": "2020-10-13T06:43:45.226671",
     "status": "completed"
    },
    "tags": []
   },
   "outputs": [],
   "source": [
    "X_train,X_val,y_train,y_val = train_test_split(X_vectorized,y,test_size=.25,shuffle=True, stratify=y, random_state=11)"
   ]
  },
  {
   "cell_type": "code",
   "execution_count": 9,
   "metadata": {
    "execution": {
     "iopub.execute_input": "2020-10-13T06:43:45.291469Z",
     "iopub.status.busy": "2020-10-13T06:43:45.290811Z",
     "iopub.status.idle": "2020-10-13T06:44:59.459549Z",
     "shell.execute_reply": "2020-10-13T06:44:59.458975Z"
    },
    "papermill": {
     "duration": 74.183599,
     "end_time": "2020-10-13T06:44:59.459689",
     "exception": false,
     "start_time": "2020-10-13T06:43:45.276090",
     "status": "completed"
    },
    "tags": []
   },
   "outputs": [],
   "source": [
    "rfc = RandomForestClassifier()\n",
    "rfc.fit(X_train, y_train)\n",
    "rfc_pred = rfc.predict(X_val)"
   ]
  },
  {
   "cell_type": "code",
   "execution_count": 10,
   "metadata": {
    "execution": {
     "iopub.execute_input": "2020-10-13T06:44:59.525701Z",
     "iopub.status.busy": "2020-10-13T06:44:59.520548Z",
     "iopub.status.idle": "2020-10-13T06:44:59.843045Z",
     "shell.execute_reply": "2020-10-13T06:44:59.842368Z"
    },
    "papermill": {
     "duration": 0.373282,
     "end_time": "2020-10-13T06:44:59.843161",
     "exception": false,
     "start_time": "2020-10-13T06:44:59.469879",
     "status": "completed"
    },
    "tags": []
   },
   "outputs": [],
   "source": [
    "testx = test['message']\n",
    "test_vect = vectorizer.transform(testx)"
   ]
  },
  {
   "cell_type": "code",
   "execution_count": 11,
   "metadata": {
    "execution": {
     "iopub.execute_input": "2020-10-13T06:44:59.868432Z",
     "iopub.status.busy": "2020-10-13T06:44:59.867727Z",
     "iopub.status.idle": "2020-10-13T06:45:00.789947Z",
     "shell.execute_reply": "2020-10-13T06:45:00.789375Z"
    },
    "papermill": {
     "duration": 0.936661,
     "end_time": "2020-10-13T06:45:00.790063",
     "exception": false,
     "start_time": "2020-10-13T06:44:59.853402",
     "status": "completed"
    },
    "tags": []
   },
   "outputs": [],
   "source": [
    "y_pred = rfc.predict(test_vect)"
   ]
  },
  {
   "cell_type": "code",
   "execution_count": 12,
   "metadata": {
    "execution": {
     "iopub.execute_input": "2020-10-13T06:45:00.817128Z",
     "iopub.status.busy": "2020-10-13T06:45:00.816424Z",
     "iopub.status.idle": "2020-10-13T06:45:00.819642Z",
     "shell.execute_reply": "2020-10-13T06:45:00.820105Z"
    },
    "papermill": {
     "duration": 0.019784,
     "end_time": "2020-10-13T06:45:00.820273",
     "exception": false,
     "start_time": "2020-10-13T06:45:00.800489",
     "status": "completed"
    },
    "tags": []
   },
   "outputs": [],
   "source": [
    "test['sentiment'] = y_pred"
   ]
  },
  {
   "cell_type": "code",
   "execution_count": 13,
   "metadata": {
    "execution": {
     "iopub.execute_input": "2020-10-13T06:45:00.848914Z",
     "iopub.status.busy": "2020-10-13T06:45:00.848179Z",
     "iopub.status.idle": "2020-10-13T06:45:00.855932Z",
     "shell.execute_reply": "2020-10-13T06:45:00.856445Z"
    },
    "papermill": {
     "duration": 0.026015,
     "end_time": "2020-10-13T06:45:00.856598",
     "exception": false,
     "start_time": "2020-10-13T06:45:00.830583",
     "status": "completed"
    },
    "tags": []
   },
   "outputs": [
    {
     "data": {
      "text/html": [
       "<div>\n",
       "<style scoped>\n",
       "    .dataframe tbody tr th:only-of-type {\n",
       "        vertical-align: middle;\n",
       "    }\n",
       "\n",
       "    .dataframe tbody tr th {\n",
       "        vertical-align: top;\n",
       "    }\n",
       "\n",
       "    .dataframe thead th {\n",
       "        text-align: right;\n",
       "    }\n",
       "</style>\n",
       "<table border=\"1\" class=\"dataframe\">\n",
       "  <thead>\n",
       "    <tr style=\"text-align: right;\">\n",
       "      <th></th>\n",
       "      <th>message</th>\n",
       "      <th>tweetid</th>\n",
       "      <th>sentiment</th>\n",
       "    </tr>\n",
       "  </thead>\n",
       "  <tbody>\n",
       "    <tr>\n",
       "      <th>0</th>\n",
       "      <td>Europe will now be looking to China to make su...</td>\n",
       "      <td>169760</td>\n",
       "      <td>1</td>\n",
       "    </tr>\n",
       "    <tr>\n",
       "      <th>1</th>\n",
       "      <td>Combine this with the polling of staffers re c...</td>\n",
       "      <td>35326</td>\n",
       "      <td>1</td>\n",
       "    </tr>\n",
       "    <tr>\n",
       "      <th>2</th>\n",
       "      <td>The scary, unimpeachable evidence that climate...</td>\n",
       "      <td>224985</td>\n",
       "      <td>1</td>\n",
       "    </tr>\n",
       "    <tr>\n",
       "      <th>3</th>\n",
       "      <td>@Karoli @morgfair @OsborneInk @dailykos \\nPuti...</td>\n",
       "      <td>476263</td>\n",
       "      <td>1</td>\n",
       "    </tr>\n",
       "    <tr>\n",
       "      <th>4</th>\n",
       "      <td>RT @FakeWillMoore: 'Female orgasms cause globa...</td>\n",
       "      <td>872928</td>\n",
       "      <td>0</td>\n",
       "    </tr>\n",
       "  </tbody>\n",
       "</table>\n",
       "</div>"
      ],
      "text/plain": [
       "                                             message  tweetid  sentiment\n",
       "0  Europe will now be looking to China to make su...   169760          1\n",
       "1  Combine this with the polling of staffers re c...    35326          1\n",
       "2  The scary, unimpeachable evidence that climate...   224985          1\n",
       "3  @Karoli @morgfair @OsborneInk @dailykos \\nPuti...   476263          1\n",
       "4  RT @FakeWillMoore: 'Female orgasms cause globa...   872928          0"
      ]
     },
     "execution_count": 13,
     "metadata": {},
     "output_type": "execute_result"
    }
   ],
   "source": [
    "test.head()"
   ]
  },
  {
   "cell_type": "code",
   "execution_count": 14,
   "metadata": {
    "execution": {
     "iopub.execute_input": "2020-10-13T06:45:00.883860Z",
     "iopub.status.busy": "2020-10-13T06:45:00.883231Z",
     "iopub.status.idle": "2020-10-13T06:45:01.179892Z",
     "shell.execute_reply": "2020-10-13T06:45:01.179131Z"
    },
    "papermill": {
     "duration": 0.312434,
     "end_time": "2020-10-13T06:45:01.180011",
     "exception": false,
     "start_time": "2020-10-13T06:45:00.867577",
     "status": "completed"
    },
    "tags": []
   },
   "outputs": [],
   "source": [
    "test[['tweetid','sentiment']].to_csv('testsubmission.csv', index=False)"
   ]
  }
 ],
 "metadata": {
  "kernelspec": {
   "display_name": "Python 3",
   "language": "python",
   "name": "python3"
  },
  "language_info": {
   "codemirror_mode": {
    "name": "ipython",
    "version": 3
   },
   "file_extension": ".py",
   "mimetype": "text/x-python",
   "name": "python",
   "nbconvert_exporter": "python",
   "pygments_lexer": "ipython3",
   "version": "3.7.6"
  },
  "papermill": {
   "duration": 84.303258,
   "end_time": "2020-10-13T06:45:01.299993",
   "environment_variables": {},
   "exception": null,
   "input_path": "__notebook__.ipynb",
   "output_path": "__notebook__.ipynb",
   "parameters": {},
   "start_time": "2020-10-13T06:43:36.996735",
   "version": "2.1.0"
  }
 },
 "nbformat": 4,
 "nbformat_minor": 4
}
